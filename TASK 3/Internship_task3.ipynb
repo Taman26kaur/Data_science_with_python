{
 "cells": [
  {
   "cell_type": "code",
   "execution_count": 1,
   "id": "7da92f05",
   "metadata": {},
   "outputs": [],
   "source": [
    "#This task involves using the matplotlib library to visualize data.\n",
    "import pandas as pd\n",
    "import numpy as np\n",
    "import matplotlib.pyplot as plt\n",
    "import seaborn as sns\n",
    "from datetime import datetime"
   ]
  },
  {
   "cell_type": "code",
   "execution_count": 2,
   "id": "0830f20d",
   "metadata": {},
   "outputs": [],
   "source": [
    "data = pd.read_csv('C:\\\\Users\\\\taman\\\\Desktop\\\\DATA SCIENCE\\\\TASK 3\\\\householdtask3.csv')"
   ]
  },
  {
   "cell_type": "code",
   "execution_count": 3,
   "id": "8bf614d4",
   "metadata": {},
   "outputs": [
    {
     "data": {
      "text/html": [
       "<div>\n",
       "<style scoped>\n",
       "    .dataframe tbody tr th:only-of-type {\n",
       "        vertical-align: middle;\n",
       "    }\n",
       "\n",
       "    .dataframe tbody tr th {\n",
       "        vertical-align: top;\n",
       "    }\n",
       "\n",
       "    .dataframe thead th {\n",
       "        text-align: right;\n",
       "    }\n",
       "</style>\n",
       "<table border=\"1\" class=\"dataframe\">\n",
       "  <thead>\n",
       "    <tr style=\"text-align: right;\">\n",
       "      <th></th>\n",
       "      <th>year</th>\n",
       "      <th>tot_hhs</th>\n",
       "      <th>own</th>\n",
       "      <th>own_wm</th>\n",
       "      <th>own_prop</th>\n",
       "      <th>own_wm_prop</th>\n",
       "      <th>prop_hhs</th>\n",
       "      <th>age</th>\n",
       "      <th>size</th>\n",
       "      <th>income</th>\n",
       "      <th>expenditure</th>\n",
       "      <th>eqv_income</th>\n",
       "      <th>eqv_exp</th>\n",
       "    </tr>\n",
       "  </thead>\n",
       "  <tbody>\n",
       "    <tr>\n",
       "      <th>0</th>\n",
       "      <td>2008</td>\n",
       "      <td>1560859</td>\n",
       "      <td>1087580</td>\n",
       "      <td>574406</td>\n",
       "      <td>69.7</td>\n",
       "      <td>36.8</td>\n",
       "      <td>100.0</td>\n",
       "      <td>35.9</td>\n",
       "      <td>2.7</td>\n",
       "      <td>46704</td>\n",
       "      <td>42394</td>\n",
       "      <td>26869</td>\n",
       "      <td>25132</td>\n",
       "    </tr>\n",
       "    <tr>\n",
       "      <th>1</th>\n",
       "      <td>2008</td>\n",
       "      <td>185965</td>\n",
       "      <td>71256</td>\n",
       "      <td>39405</td>\n",
       "      <td>38.3</td>\n",
       "      <td>21.2</td>\n",
       "      <td>11.9</td>\n",
       "      <td>29.9</td>\n",
       "      <td>2.6</td>\n",
       "      <td>23404</td>\n",
       "      <td>25270</td>\n",
       "      <td>14258</td>\n",
       "      <td>15824</td>\n",
       "    </tr>\n",
       "    <tr>\n",
       "      <th>2</th>\n",
       "      <td>2008</td>\n",
       "      <td>312376</td>\n",
       "      <td>191470</td>\n",
       "      <td>48424</td>\n",
       "      <td>61.3</td>\n",
       "      <td>15.5</td>\n",
       "      <td>20.0</td>\n",
       "      <td>40.0</td>\n",
       "      <td>2.3</td>\n",
       "      <td>16747</td>\n",
       "      <td>21145</td>\n",
       "      <td>13402</td>\n",
       "      <td>14408</td>\n",
       "    </tr>\n",
       "    <tr>\n",
       "      <th>3</th>\n",
       "      <td>2008</td>\n",
       "      <td>312333</td>\n",
       "      <td>196203</td>\n",
       "      <td>84171</td>\n",
       "      <td>62.8</td>\n",
       "      <td>26.9</td>\n",
       "      <td>20.0</td>\n",
       "      <td>34.7</td>\n",
       "      <td>2.8</td>\n",
       "      <td>31308</td>\n",
       "      <td>29855</td>\n",
       "      <td>18917</td>\n",
       "      <td>18266</td>\n",
       "    </tr>\n",
       "    <tr>\n",
       "      <th>4</th>\n",
       "      <td>2008</td>\n",
       "      <td>312240</td>\n",
       "      <td>217657</td>\n",
       "      <td>141318</td>\n",
       "      <td>69.7</td>\n",
       "      <td>45.3</td>\n",
       "      <td>20.0</td>\n",
       "      <td>31.5</td>\n",
       "      <td>3.0</td>\n",
       "      <td>49106</td>\n",
       "      <td>46561</td>\n",
       "      <td>26870</td>\n",
       "      <td>24672</td>\n",
       "    </tr>\n",
       "    <tr>\n",
       "      <th>5</th>\n",
       "      <td>2008</td>\n",
       "      <td>312336</td>\n",
       "      <td>229014</td>\n",
       "      <td>147658</td>\n",
       "      <td>73.3</td>\n",
       "      <td>47.3</td>\n",
       "      <td>20.0</td>\n",
       "      <td>35.3</td>\n",
       "      <td>2.6</td>\n",
       "      <td>61674</td>\n",
       "      <td>52776</td>\n",
       "      <td>36691</td>\n",
       "      <td>31958</td>\n",
       "    </tr>\n",
       "    <tr>\n",
       "      <th>6</th>\n",
       "      <td>2008</td>\n",
       "      <td>311574</td>\n",
       "      <td>253235</td>\n",
       "      <td>152835</td>\n",
       "      <td>81.3</td>\n",
       "      <td>49.1</td>\n",
       "      <td>20.0</td>\n",
       "      <td>39.3</td>\n",
       "      <td>2.5</td>\n",
       "      <td>96861</td>\n",
       "      <td>72822</td>\n",
       "      <td>55637</td>\n",
       "      <td>42932</td>\n",
       "    </tr>\n",
       "    <tr>\n",
       "      <th>7</th>\n",
       "      <td>2008</td>\n",
       "      <td>312761</td>\n",
       "      <td>194358</td>\n",
       "      <td>49448</td>\n",
       "      <td>62.1</td>\n",
       "      <td>15.8</td>\n",
       "      <td>20.0</td>\n",
       "      <td>38.7</td>\n",
       "      <td>2.5</td>\n",
       "      <td>23680</td>\n",
       "      <td>16413</td>\n",
       "      <td>15190</td>\n",
       "      <td>11015</td>\n",
       "    </tr>\n",
       "    <tr>\n",
       "      <th>8</th>\n",
       "      <td>2008</td>\n",
       "      <td>311973</td>\n",
       "      <td>206342</td>\n",
       "      <td>86390</td>\n",
       "      <td>66.1</td>\n",
       "      <td>27.7</td>\n",
       "      <td>20.0</td>\n",
       "      <td>36.1</td>\n",
       "      <td>2.7</td>\n",
       "      <td>34155</td>\n",
       "      <td>29085</td>\n",
       "      <td>20357</td>\n",
       "      <td>18121</td>\n",
       "    </tr>\n",
       "    <tr>\n",
       "      <th>9</th>\n",
       "      <td>2008</td>\n",
       "      <td>311840</td>\n",
       "      <td>194361</td>\n",
       "      <td>108065</td>\n",
       "      <td>62.3</td>\n",
       "      <td>34.7</td>\n",
       "      <td>20.0</td>\n",
       "      <td>33.0</td>\n",
       "      <td>2.8</td>\n",
       "      <td>49771</td>\n",
       "      <td>42662</td>\n",
       "      <td>27203</td>\n",
       "      <td>25132</td>\n",
       "    </tr>\n",
       "  </tbody>\n",
       "</table>\n",
       "</div>"
      ],
      "text/plain": [
       "   year  tot_hhs      own  own_wm  own_prop  own_wm_prop  prop_hhs   age  \\\n",
       "0  2008  1560859  1087580  574406      69.7         36.8     100.0  35.9   \n",
       "1  2008   185965    71256   39405      38.3         21.2      11.9  29.9   \n",
       "2  2008   312376   191470   48424      61.3         15.5      20.0  40.0   \n",
       "3  2008   312333   196203   84171      62.8         26.9      20.0  34.7   \n",
       "4  2008   312240   217657  141318      69.7         45.3      20.0  31.5   \n",
       "5  2008   312336   229014  147658      73.3         47.3      20.0  35.3   \n",
       "6  2008   311574   253235  152835      81.3         49.1      20.0  39.3   \n",
       "7  2008   312761   194358   49448      62.1         15.8      20.0  38.7   \n",
       "8  2008   311973   206342   86390      66.1         27.7      20.0  36.1   \n",
       "9  2008   311840   194361  108065      62.3         34.7      20.0  33.0   \n",
       "\n",
       "   size  income  expenditure  eqv_income  eqv_exp  \n",
       "0   2.7   46704        42394       26869    25132  \n",
       "1   2.6   23404        25270       14258    15824  \n",
       "2   2.3   16747        21145       13402    14408  \n",
       "3   2.8   31308        29855       18917    18266  \n",
       "4   3.0   49106        46561       26870    24672  \n",
       "5   2.6   61674        52776       36691    31958  \n",
       "6   2.5   96861        72822       55637    42932  \n",
       "7   2.5   23680        16413       15190    11015  \n",
       "8   2.7   34155        29085       20357    18121  \n",
       "9   2.8   49771        42662       27203    25132  "
      ]
     },
     "metadata": {},
     "output_type": "display_data"
    }
   ],
   "source": [
    "display(data.head(10))"
   ]
  },
  {
   "cell_type": "code",
   "execution_count": 4,
   "id": "7b27519a",
   "metadata": {},
   "outputs": [
    {
     "data": {
      "image/png": "[encoded data removed]",
      "text/plain": [
       "<Figure size 432x288 with 1 Axes>"
      ]
     },
     "metadata": {
      "needs_background": "light"
     },
     "output_type": "display_data"
    }
   ],
   "source": [
    "# Scatter plot (year against own)\n",
    "plt.scatter(data['year'],data['own'])\n",
    "\n",
    "plt.title(\"Scatter Plot\")\n",
    "plt.xlabel('year')\n",
    "plt.ylabel('own')\n",
    "\n",
    "plt.show()"
   ]
  },
  {
   "cell_type": "code",
   "execution_count": 5,
   "id": "1bd22cdd",
   "metadata": {},
   "outputs": [
    {
     "data": {
      "image/png": "[encoded data removed]",
      "text/plain": [
       "<Figure size 432x288 with 1 Axes>"
      ]
     },
     "metadata": {
      "needs_background": "light"
     },
     "output_type": "display_data"
    }
   ],
   "source": [
    "# Line chart\n",
    "plt.plot(data['year'])\n",
    "plt.plot(data['own'])\n",
    "\n",
    "plt.title(\"Line chart\")\n",
    "plt.xlabel('year')\n",
    "plt.ylabel('own')\n",
    "\n",
    "plt.show()"
   ]
  },
  {
   "cell_type": "code",
   "execution_count": 7,
   "id": "c9bfefbe",
   "metadata": {},
   "outputs": [
    {
     "data": {
      "image/png": "[encoded data removed]",
      "text/plain": [
       "<Figure size 432x288 with 1 Axes>"
      ]
     },
     "metadata": {
      "needs_background": "light"
     },
     "output_type": "display_data"
    }
   ],
   "source": [
    "# Box plot \n",
    "plt.bar(data['year'],data['own'])\n",
    "\n",
    "plt.title(\"Box plot\")\n",
    "plt.xlabel('year')\n",
    "plt.ylabel('own')\n",
    "\n",
    "plt.show()"
   ]
  },
  {
   "cell_type": "code",
   "execution_count": 12,
   "id": "d6d19715",
   "metadata": {},
   "outputs": [
    {
     "data": {
      "image/png": "[encoded data removed]",
      "text/plain": [
       "<Figure size 432x288 with 1 Axes>"
      ]
     },
     "metadata": {
      "needs_background": "light"
     },
     "output_type": "display_data"
    }
   ],
   "source": [
    "# Histogram\n",
    "plt.hist(data['income'])\n",
    "\n",
    "plt.title(\"Histogram\")\n",
    "plt.show()"
   ]
  }
 ],
 "metadata": {
  "kernelspec": {
   "display_name": "Python 3 (ipykernel)",
   "language": "python",
   "name": "python3"
  },
  "language_info": {
   "codemirror_mode": {
    "name": "ipython",
    "version": 3
   },
   "file_extension": ".py",
   "mimetype": "text/x-python",
   "name": "python",
   "nbconvert_exporter": "python",
   "pygments_lexer": "ipython3",
   "version": "3.9.12"
  }
 },
 "nbformat": 4,
 "nbformat_minor": 5
}
